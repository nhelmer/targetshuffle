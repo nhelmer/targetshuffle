{
 "cells": [
  {
   "cell_type": "markdown",
   "metadata": {},
   "source": [
    "# Getting Everything Set Up"
   ]
  },
  {
   "cell_type": "markdown",
   "metadata": {},
   "source": [
    "Before you start!\n",
    "\n",
    "open cmd and run\n",
    "\n",
    "_conda install ipyparallel_\n",
    "\n",
    "\n",
    "then start the number of processors you want in a bash window (I used git bash)\n",
    "\n",
    "_ipcluster start ~n 8_ \n"
   ]
  },
  {
   "cell_type": "code",
   "execution_count": 1,
   "metadata": {
    "collapsed": false
   },
   "outputs": [],
   "source": [
    "#import necessary libraries\n",
    "import csv\n",
    "import numpy as np\n",
    "import pandas as pd\n",
    "from patsy import dmatrices\n",
    "\n",
    "import math as math\n",
    "import matplotlib.pyplot as plt\n",
    "%matplotlib inline\n",
    "\n",
    "import statsmodels.api as sm\n",
    "import xgboost\n",
    "from sklearn import tree, discriminant_analysis, metrics, linear_model, ensemble, naive_bayes, grid_search\n",
    "\n",
    "from ipyparallel import Client, require\n",
    "import sys\n",
    "import time"
   ]
  },
  {
   "cell_type": "code",
   "execution_count": 2,
   "metadata": {
    "collapsed": true
   },
   "outputs": [],
   "source": [
    "#set up system timer\n",
    "if sys.platform == 'win32':\n",
    "    _timer = time.clock\n",
    "else:\n",
    "    _timer = time.time\n",
    "    \n",
    "parallelClient = Client()\n",
    "loadBalancedView = parallelClient.load_balanced_view()\n"
   ]
  },
  {
   "cell_type": "code",
   "execution_count": 3,
   "metadata": {
    "collapsed": false
   },
   "outputs": [],
   "source": [
    "def get_metric(model, target, predictors, metricType):\n",
    "    #need to add all the metrics\n",
    "    from sklearn import metrics\n",
    "   \n",
    "    predictions = model.predict(predictors)\n",
    "    PredProb = model.predict_proba(predictors)[:,1]\n",
    "    fpr, tpr, _ =  metrics.roc_curve(target,PredProb)\n",
    "    \n",
    "    metricType = metricType.upper()\n",
    "    if metricType==\"AUC\":\n",
    "        Metric = metrics.auc(fpr,tpr)\n",
    "    elif metricType =='ACCURACY':\n",
    "        Metric = metrics.accuracy_score(target,predictions)\n",
    "    elif metricType ==\"SCORE\":\n",
    "        Metric =  Score = model.score(predictors, target)\n",
    "    elif metricType ==\"LOGLOSS\":\n",
    "        Metric = metrics.log_loss(target,PredProb)\n",
    "    else: \n",
    "        print 'this metric is not in the defined list of metrics'\n",
    "    return Metric"
   ]
  },
  {
   "cell_type": "code",
   "execution_count": 4,
   "metadata": {
    "collapsed": false
   },
   "outputs": [],
   "source": [
    "#the shuffle and fit function\n",
    "@require (get_metric)\n",
    "def shuffle_and_fit(model, target, predictors, metricType):\n",
    "    import random\n",
    "  \n",
    "    shuffledTarget = list(target)\n",
    "    random.shuffle(shuffledTarget)\n",
    "    if sum(target) != sum(shuffledTarget):\n",
    "        print 'uh-o something went wrong the numbers pr proportions are not the same in the shuffled list'\n",
    "    \n",
    "    model.fit(predictors, shuffledTarget)\n",
    "    Metric = get_metric(model, shuffledTarget, predictors, metricType)\n",
    "         \n",
    "    return Metric"
   ]
  },
  {
   "cell_type": "markdown",
   "metadata": {},
   "source": [
    "# Read in the Data, Select and Fit the Model, get the REAL metric"
   ]
  },
  {
   "cell_type": "code",
   "execution_count": 6,
   "metadata": {
    "collapsed": false
   },
   "outputs": [
    {
     "name": "stdout",
     "output_type": "stream",
     "text": [
      "Index([u'Intercept', u'C(Sex)[T.male]', u'Fare', u'Age', u'Pclass'], dtype='object')\n"
     ]
    }
   ],
   "source": [
    "# Read in the titanic dataset\n",
    "data = pd.read_csv('C:/Users/nbruf/Documents/train.csv')\n",
    "data.head()\n",
    "\n",
    "# create dataframes with an intercept column and dummy variables for sex\n",
    "target, predictors = dmatrices('Survived ~ Fare + Age +  Pclass + C(Sex)', data, return_type=\"dataframe\")\n",
    "print predictors.columns\n",
    "\n",
    "# flatten y into a 1-D array\n",
    "target1d = np.ravel(target)"
   ]
  },
  {
   "cell_type": "code",
   "execution_count": 7,
   "metadata": {
    "collapsed": false
   },
   "outputs": [
    {
     "data": {
      "text/plain": [
       "DecisionTreeClassifier(class_weight=None, criterion='gini', max_depth=None,\n",
       "            max_features=None, max_leaf_nodes=None, min_samples_leaf=1,\n",
       "            min_samples_split=2, min_weight_fraction_leaf=0.0,\n",
       "            presort=False, random_state=None, splitter='best')"
      ]
     },
     "execution_count": 7,
     "metadata": {},
     "output_type": "execute_result"
    }
   ],
   "source": [
    "#select, define, and fit the model\n",
    "\n",
    "#model = linear_model.LogisticRegression()\n",
    "model = tree.DecisionTreeClassifier()\n",
    "#model = ensemble.RandomForestClassifier()\n",
    "#model = ensemble.AdaBoostClassifier()\n",
    "#model = naive_bayes.GaussianNB()\n",
    "\n",
    "#fit the model\n",
    "model.fit(predictors, target1d)"
   ]
  },
  {
   "cell_type": "code",
   "execution_count": 8,
   "metadata": {
    "collapsed": false
   },
   "outputs": [
    {
     "data": {
      "text/plain": [
       "0.99949170461938841"
      ]
     },
     "execution_count": 8,
     "metadata": {},
     "output_type": "execute_result"
    }
   ],
   "source": [
    "#get a metric\n",
    "RealMetric = get_metric(model,target1d,predictors,'AUC')\n",
    "RealMetric"
   ]
  },
  {
   "cell_type": "markdown",
   "metadata": {},
   "source": [
    "# Target Shuffle & Plot"
   ]
  },
  {
   "cell_type": "code",
   "execution_count": 9,
   "metadata": {
    "collapsed": false
   },
   "outputs": [
    {
     "name": "stdout",
     "output_type": "stream",
     "text": [
      "TOTAL TIME IN SECONDS: 3.12435678987\n"
     ]
    }
   ],
   "source": [
    "#run the simulation to get a bunch more metrics\n",
    "iterations = 20\n",
    "histogram = []\n",
    "simulatedMetrics = []\n",
    "\n",
    "startTime = _timer()\n",
    "for shuffleIndex in range(0,iterations):\n",
    "    simulatedMetrics.append(loadBalancedView.apply(shuffle_and_fit,model, target1d, predictors, 'AUC'))\n",
    "\n",
    "for item in simulatedMetrics:\n",
    "    histogram.append(item.get())\n",
    "\n",
    "endTime = _timer()\n",
    "duration_in_seconds = endTime - startTime\n",
    "print('TOTAL TIME IN SECONDS: ' + str(duration_in_seconds))\n"
   ]
  },
  {
   "cell_type": "code",
   "execution_count": 11,
   "metadata": {
    "collapsed": false
   },
   "outputs": [
    {
     "name": "stdout",
     "output_type": "stream",
     "text": [
      "Simuluation Standard Deviation = 0.0006 \n",
      "Our Actual Metric is 0.99949\n",
      "That is 3.48 standard deviations from the mean of the target shuffled models\n"
     ]
    },
    {
     "data": {
      "text/plain": [
       "<matplotlib.patches.FancyArrow at 0xd37a278>"
      ]
     },
     "execution_count": 11,
     "metadata": {},
     "output_type": "execute_result"
    },
    {
     "data": {
      "image/png": "[encoded data removed]",
      "text/plain": [
       "<matplotlib.figure.Figure at 0xd37a470>"
      ]
     },
     "metadata": {},
     "output_type": "display_data"
    }
   ],
   "source": [
    "#plot the metrics on a histogram to see how unusual the real model is compared to random simluations\n",
    "simStdDev = np.std(histogram)\n",
    "if max(histogram) > RealMetric:\n",
    "    upper = max(histogram) + simStdDev\n",
    "else:\n",
    "    upper = RealMetric + simStdDev\n",
    "    \n",
    "if min(histogram) < RealMetric:\n",
    "    lower = min(histogram) - simStdDev\n",
    "else:\n",
    "    lower = RealMetric - simStdDev\n",
    "\n",
    "\n",
    "print 'Simuluation Standard Deviation = %.4f ' % simStdDev\n",
    "howUnusual = (RealMetric - np.mean(histogram))/ simStdDev\n",
    "print 'Our Actual Metric is %.5f' %RealMetric\n",
    "#would be better to refer to this as X percent rare...\n",
    "print 'That is %.2f standard deviations from the mean of the target shuffled models' %howUnusual\n",
    "\n",
    "\n",
    "bins = np.linspace((lower), (upper))\n",
    "plt.hist(histogram, bins, label='Simulated Values')\n",
    "plt.hist(RealMetric, bins,label='Our Actual Metric')\n",
    "plt.legend(loc='upper right')\n",
    "plt.title(\"Histogram\")\n",
    "plt.xlabel(\"Metric\")\n",
    "plt.ylabel(\"Frequency\")\n",
    "plt.arrow(x=RealMetric, y=0, dx=0.0, dy=(iterations/10), width=(iterations/1000), color='green', linestyle='dotted', label='our metric' )\n"
   ]
  },
  {
   "cell_type": "markdown",
   "metadata": {
    "collapsed": true
   },
   "source": [
    "It needs to be REALLY far from the simulated distribution - 3 standard deviations is not that different.\n",
    "models can theoreticallly be compared based on which have greater distance from the simulated models."
   ]
  },
  {
   "cell_type": "code",
   "execution_count": null,
   "metadata": {
    "collapsed": true
   },
   "outputs": [],
   "source": []
  }
 ],
 "metadata": {
  "anaconda-cloud": {},
  "kernelspec": {
   "display_name": "Python [Root]",
   "language": "python",
   "name": "Python [Root]"
  },
  "language_info": {
   "codemirror_mode": {
    "name": "ipython",
    "version": 2
   },
   "file_extension": ".py",
   "mimetype": "text/x-python",
   "name": "python",
   "nbconvert_exporter": "python",
   "pygments_lexer": "ipython2",
   "version": "2.7.12"
  }
 },
 "nbformat": 4,
 "nbformat_minor": 0
}
